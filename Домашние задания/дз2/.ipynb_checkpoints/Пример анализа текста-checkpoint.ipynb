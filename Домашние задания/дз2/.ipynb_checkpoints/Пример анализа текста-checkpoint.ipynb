{
 "cells": [
  {
   "cell_type": "markdown",
   "metadata": {},
   "source": [
    "# Задача"
   ]
  },
  {
   "cell_type": "markdown",
   "metadata": {},
   "source": [
    "Сделать классификатор тональности коротких текстовых сообщений (например, твитов). Алгоритм должен уметь классифицировать сообщения на два класса: сообщения с положительной эмоциональной окраской и сообщения с отрицательной окраской."
   ]
  },
  {
   "cell_type": "code",
   "execution_count": null,
   "metadata": {},
   "outputs": [],
   "source": [
    "from sklearn.feature_extraction.text import CountVectorizer\n",
    "from sklearn.feature_extraction.text import TfidfVectorizer\n",
    "\n",
    "from sklearn.model_selection import *\n",
    "\n",
    "from sklearn.naive_bayes import MultinomialNB\n",
    "from sklearn.linear_model import SGDClassifier\n",
    "\n",
    "import pandas as pd\n",
    "\n",
    "\n",
    "# считываем подготовленный датасет\n",
    "dataset = pd.read_csv('data.csv', index_col=0).dropna()\n",
    "\n",
    "# массив n-граммных схем, которые будут использоваться в работе\n",
    "# например, (1, 3) означает униграммы + биграммы + триграммы\n",
    "ngram_schemes = [(1, 1), (1, 2), (1, 3), (1, 4), (1, 5), (1, 6)]\n",
    "\n",
    "for ngram_scheme in ngram_schemes:\n",
    "\n",
    "    print('N-gram Scheme:', ngram_scheme)\n",
    "\n",
    "    count_vectorizer = CountVectorizer(analyzer = \"word\", ngram_range=ngram_scheme) \n",
    "    tfidf_vectorizer = TfidfVectorizer(analyzer = \"word\", ngram_range=ngram_scheme)\n",
    "\n",
    "    vectorizers = [count_vectorizer, tfidf_vectorizer]\n",
    "    vectorizers_names = ['Count Vectorizer', 'TF-IDF Vectorizer']\n",
    "\n",
    "    for i in range(len(vectorizers)):\n",
    "        print(vectorizers_names[i])\n",
    "        vectorizer = vectorizers[i]\n",
    "        X = vectorizer.fit_transform(dataset['text'])\n",
    "        y = dataset['label']\n",
    "\n",
    "        cv = #Выбрать стратегию кросс-валидации\n",
    "\n",
    "        clf = #Выбрать классификатор\n",
    "        \n",
    "        sc = cross_val_score(clf, X, y, cv=cv).mean()\n",
    "        print(sc.mean())"
   ]
  }
 ],
 "metadata": {
  "kernelspec": {
   "display_name": "Python 3",
   "language": "python",
   "name": "python3"
  },
  "language_info": {
   "codemirror_mode": {
    "name": "ipython",
    "version": 3
   },
   "file_extension": ".py",
   "mimetype": "text/x-python",
   "name": "python",
   "nbconvert_exporter": "python",
   "pygments_lexer": "ipython3",
   "version": "3.6.7"
  }
 },
 "nbformat": 4,
 "nbformat_minor": 2
}
