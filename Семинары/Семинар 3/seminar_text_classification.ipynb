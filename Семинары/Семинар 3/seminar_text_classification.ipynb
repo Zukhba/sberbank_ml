{
 "cells": [
  {
   "cell_type": "markdown",
   "metadata": {},
   "source": [
    "# Классификация текста"
   ]
  },
  {
   "cell_type": "code",
   "execution_count": 137,
   "metadata": {},
   "outputs": [],
   "source": [
    "import numpy as np\n",
    "import pandas as pd\n",
    "from matplotlib import pyplot as plt\n",
    "%matplotlib inline"
   ]
  },
  {
   "cell_type": "markdown",
   "metadata": {},
   "source": [
    "Мы будем решать задачу предсказания оценки, проставленной вину, базируясь на отзыве. Данные взяты из конкурса https://www.kaggle.com/zynicide/wine-reviews"
   ]
  },
  {
   "cell_type": "code",
   "execution_count": 138,
   "metadata": {},
   "outputs": [
    {
     "data": {
      "text/html": [
       "<div>\n",
       "<style scoped>\n",
       "    .dataframe tbody tr th:only-of-type {\n",
       "        vertical-align: middle;\n",
       "    }\n",
       "\n",
       "    .dataframe tbody tr th {\n",
       "        vertical-align: top;\n",
       "    }\n",
       "\n",
       "    .dataframe thead th {\n",
       "        text-align: right;\n",
       "    }\n",
       "</style>\n",
       "<table border=\"1\" class=\"dataframe\">\n",
       "  <thead>\n",
       "    <tr style=\"text-align: right;\">\n",
       "      <th></th>\n",
       "      <th>country</th>\n",
       "      <th>description</th>\n",
       "      <th>designation</th>\n",
       "      <th>points</th>\n",
       "      <th>price</th>\n",
       "      <th>province</th>\n",
       "      <th>region_1</th>\n",
       "      <th>region_2</th>\n",
       "      <th>taster_name</th>\n",
       "      <th>taster_twitter_handle</th>\n",
       "      <th>title</th>\n",
       "      <th>variety</th>\n",
       "      <th>winery</th>\n",
       "    </tr>\n",
       "  </thead>\n",
       "  <tbody>\n",
       "    <tr>\n",
       "      <th>0</th>\n",
       "      <td>Italy</td>\n",
       "      <td>Aromas include tropical fruit, broom, brimston...</td>\n",
       "      <td>Vulkà Bianco</td>\n",
       "      <td>87</td>\n",
       "      <td></td>\n",
       "      <td>Sicily &amp; Sardinia</td>\n",
       "      <td>Etna</td>\n",
       "      <td></td>\n",
       "      <td>Kerin O’Keefe</td>\n",
       "      <td>@kerinokeefe</td>\n",
       "      <td>Nicosia 2013 Vulkà Bianco  (Etna)</td>\n",
       "      <td>White Blend</td>\n",
       "      <td>Nicosia</td>\n",
       "    </tr>\n",
       "    <tr>\n",
       "      <th>1</th>\n",
       "      <td>Portugal</td>\n",
       "      <td>This is ripe and fruity, a wine that is smooth...</td>\n",
       "      <td>Avidagos</td>\n",
       "      <td>87</td>\n",
       "      <td>15.0</td>\n",
       "      <td>Douro</td>\n",
       "      <td></td>\n",
       "      <td></td>\n",
       "      <td>Roger Voss</td>\n",
       "      <td>@vossroger</td>\n",
       "      <td>Quinta dos Avidagos 2011 Avidagos Red (Douro)</td>\n",
       "      <td>Portuguese Red</td>\n",
       "      <td>Quinta dos Avidagos</td>\n",
       "    </tr>\n",
       "    <tr>\n",
       "      <th>2</th>\n",
       "      <td>US</td>\n",
       "      <td>Tart and snappy, the flavors of lime flesh and...</td>\n",
       "      <td></td>\n",
       "      <td>87</td>\n",
       "      <td>14.0</td>\n",
       "      <td>Oregon</td>\n",
       "      <td>Willamette Valley</td>\n",
       "      <td>Willamette Valley</td>\n",
       "      <td>Paul Gregutt</td>\n",
       "      <td>@paulgwine</td>\n",
       "      <td>Rainstorm 2013 Pinot Gris (Willamette Valley)</td>\n",
       "      <td>Pinot Gris</td>\n",
       "      <td>Rainstorm</td>\n",
       "    </tr>\n",
       "    <tr>\n",
       "      <th>3</th>\n",
       "      <td>US</td>\n",
       "      <td>Pineapple rind, lemon pith and orange blossom ...</td>\n",
       "      <td>Reserve Late Harvest</td>\n",
       "      <td>87</td>\n",
       "      <td>13.0</td>\n",
       "      <td>Michigan</td>\n",
       "      <td>Lake Michigan Shore</td>\n",
       "      <td></td>\n",
       "      <td>Alexander Peartree</td>\n",
       "      <td></td>\n",
       "      <td>St. Julian 2013 Reserve Late Harvest Riesling ...</td>\n",
       "      <td>Riesling</td>\n",
       "      <td>St. Julian</td>\n",
       "    </tr>\n",
       "    <tr>\n",
       "      <th>4</th>\n",
       "      <td>US</td>\n",
       "      <td>Much like the regular bottling from 2012, this...</td>\n",
       "      <td>Vintner's Reserve Wild Child Block</td>\n",
       "      <td>87</td>\n",
       "      <td>65.0</td>\n",
       "      <td>Oregon</td>\n",
       "      <td>Willamette Valley</td>\n",
       "      <td>Willamette Valley</td>\n",
       "      <td>Paul Gregutt</td>\n",
       "      <td>@paulgwine</td>\n",
       "      <td>Sweet Cheeks 2012 Vintner's Reserve Wild Child...</td>\n",
       "      <td>Pinot Noir</td>\n",
       "      <td>Sweet Cheeks</td>\n",
       "    </tr>\n",
       "  </tbody>\n",
       "</table>\n",
       "</div>"
      ],
      "text/plain": [
       "    country                                        description  \\\n",
       "0     Italy  Aromas include tropical fruit, broom, brimston...   \n",
       "1  Portugal  This is ripe and fruity, a wine that is smooth...   \n",
       "2        US  Tart and snappy, the flavors of lime flesh and...   \n",
       "3        US  Pineapple rind, lemon pith and orange blossom ...   \n",
       "4        US  Much like the regular bottling from 2012, this...   \n",
       "\n",
       "                          designation  points price           province  \\\n",
       "0                        Vulkà Bianco      87        Sicily & Sardinia   \n",
       "1                            Avidagos      87  15.0              Douro   \n",
       "2                                          87  14.0             Oregon   \n",
       "3                Reserve Late Harvest      87  13.0           Michigan   \n",
       "4  Vintner's Reserve Wild Child Block      87  65.0             Oregon   \n",
       "\n",
       "              region_1           region_2         taster_name  \\\n",
       "0                 Etna                          Kerin O’Keefe   \n",
       "1                                                  Roger Voss   \n",
       "2    Willamette Valley  Willamette Valley        Paul Gregutt   \n",
       "3  Lake Michigan Shore                     Alexander Peartree   \n",
       "4    Willamette Valley  Willamette Valley        Paul Gregutt   \n",
       "\n",
       "  taster_twitter_handle                                              title  \\\n",
       "0          @kerinokeefe                  Nicosia 2013 Vulkà Bianco  (Etna)   \n",
       "1            @vossroger      Quinta dos Avidagos 2011 Avidagos Red (Douro)   \n",
       "2           @paulgwine       Rainstorm 2013 Pinot Gris (Willamette Valley)   \n",
       "3                        St. Julian 2013 Reserve Late Harvest Riesling ...   \n",
       "4           @paulgwine   Sweet Cheeks 2012 Vintner's Reserve Wild Child...   \n",
       "\n",
       "          variety               winery  \n",
       "0     White Blend              Nicosia  \n",
       "1  Portuguese Red  Quinta dos Avidagos  \n",
       "2      Pinot Gris            Rainstorm  \n",
       "3        Riesling           St. Julian  \n",
       "4      Pinot Noir         Sweet Cheeks  "
      ]
     },
     "execution_count": 138,
     "metadata": {},
     "output_type": "execute_result"
    }
   ],
   "source": [
    "data = pd.read_csv('winemag.csv', index_col=0, na_filter=False)\n",
    "data.head()"
   ]
  },
  {
   "cell_type": "code",
   "execution_count": 139,
   "metadata": {},
   "outputs": [
    {
     "data": {
      "text/plain": [
       "<matplotlib.axes._subplots.AxesSubplot at 0x7f377b0fc2e8>"
      ]
     },
     "execution_count": 139,
     "metadata": {},
     "output_type": "execute_result"
    },
    {
     "data": {
      "image/png": "[encoded data removed]",
      "text/plain": [
       "<Figure size 432x288 with 1 Axes>"
      ]
     },
     "metadata": {
      "needs_background": "light"
     },
     "output_type": "display_data"
    }
   ],
   "source": [
    "data['points'].hist(bins=21)"
   ]
  },
  {
   "cell_type": "markdown",
   "metadata": {},
   "source": [
    "Бинаризуем таргет: будем предсказывать, превысит ли оценка 90."
   ]
  },
  {
   "cell_type": "code",
   "execution_count": 140,
   "metadata": {},
   "outputs": [
    {
     "data": {
      "text/html": [
       "<div>\n",
       "<style scoped>\n",
       "    .dataframe tbody tr th:only-of-type {\n",
       "        vertical-align: middle;\n",
       "    }\n",
       "\n",
       "    .dataframe tbody tr th {\n",
       "        vertical-align: top;\n",
       "    }\n",
       "\n",
       "    .dataframe thead th {\n",
       "        text-align: right;\n",
       "    }\n",
       "</style>\n",
       "<table border=\"1\" class=\"dataframe\">\n",
       "  <thead>\n",
       "    <tr style=\"text-align: right;\">\n",
       "      <th></th>\n",
       "      <th>country</th>\n",
       "      <th>description</th>\n",
       "      <th>designation</th>\n",
       "      <th>points</th>\n",
       "      <th>price</th>\n",
       "      <th>province</th>\n",
       "      <th>region_1</th>\n",
       "      <th>region_2</th>\n",
       "      <th>taster_name</th>\n",
       "      <th>taster_twitter_handle</th>\n",
       "      <th>title</th>\n",
       "      <th>variety</th>\n",
       "      <th>winery</th>\n",
       "      <th>&gt;=90</th>\n",
       "    </tr>\n",
       "  </thead>\n",
       "  <tbody>\n",
       "    <tr>\n",
       "      <th>0</th>\n",
       "      <td>Italy</td>\n",
       "      <td>Aromas include tropical fruit, broom, brimston...</td>\n",
       "      <td>Vulkà Bianco</td>\n",
       "      <td>87</td>\n",
       "      <td></td>\n",
       "      <td>Sicily &amp; Sardinia</td>\n",
       "      <td>Etna</td>\n",
       "      <td></td>\n",
       "      <td>Kerin O’Keefe</td>\n",
       "      <td>@kerinokeefe</td>\n",
       "      <td>Nicosia 2013 Vulkà Bianco  (Etna)</td>\n",
       "      <td>White Blend</td>\n",
       "      <td>Nicosia</td>\n",
       "      <td>False</td>\n",
       "    </tr>\n",
       "    <tr>\n",
       "      <th>1</th>\n",
       "      <td>Portugal</td>\n",
       "      <td>This is ripe and fruity, a wine that is smooth...</td>\n",
       "      <td>Avidagos</td>\n",
       "      <td>87</td>\n",
       "      <td>15.0</td>\n",
       "      <td>Douro</td>\n",
       "      <td></td>\n",
       "      <td></td>\n",
       "      <td>Roger Voss</td>\n",
       "      <td>@vossroger</td>\n",
       "      <td>Quinta dos Avidagos 2011 Avidagos Red (Douro)</td>\n",
       "      <td>Portuguese Red</td>\n",
       "      <td>Quinta dos Avidagos</td>\n",
       "      <td>False</td>\n",
       "    </tr>\n",
       "    <tr>\n",
       "      <th>2</th>\n",
       "      <td>US</td>\n",
       "      <td>Tart and snappy, the flavors of lime flesh and...</td>\n",
       "      <td></td>\n",
       "      <td>87</td>\n",
       "      <td>14.0</td>\n",
       "      <td>Oregon</td>\n",
       "      <td>Willamette Valley</td>\n",
       "      <td>Willamette Valley</td>\n",
       "      <td>Paul Gregutt</td>\n",
       "      <td>@paulgwine</td>\n",
       "      <td>Rainstorm 2013 Pinot Gris (Willamette Valley)</td>\n",
       "      <td>Pinot Gris</td>\n",
       "      <td>Rainstorm</td>\n",
       "      <td>False</td>\n",
       "    </tr>\n",
       "    <tr>\n",
       "      <th>3</th>\n",
       "      <td>US</td>\n",
       "      <td>Pineapple rind, lemon pith and orange blossom ...</td>\n",
       "      <td>Reserve Late Harvest</td>\n",
       "      <td>87</td>\n",
       "      <td>13.0</td>\n",
       "      <td>Michigan</td>\n",
       "      <td>Lake Michigan Shore</td>\n",
       "      <td></td>\n",
       "      <td>Alexander Peartree</td>\n",
       "      <td></td>\n",
       "      <td>St. Julian 2013 Reserve Late Harvest Riesling ...</td>\n",
       "      <td>Riesling</td>\n",
       "      <td>St. Julian</td>\n",
       "      <td>False</td>\n",
       "    </tr>\n",
       "    <tr>\n",
       "      <th>4</th>\n",
       "      <td>US</td>\n",
       "      <td>Much like the regular bottling from 2012, this...</td>\n",
       "      <td>Vintner's Reserve Wild Child Block</td>\n",
       "      <td>87</td>\n",
       "      <td>65.0</td>\n",
       "      <td>Oregon</td>\n",
       "      <td>Willamette Valley</td>\n",
       "      <td>Willamette Valley</td>\n",
       "      <td>Paul Gregutt</td>\n",
       "      <td>@paulgwine</td>\n",
       "      <td>Sweet Cheeks 2012 Vintner's Reserve Wild Child...</td>\n",
       "      <td>Pinot Noir</td>\n",
       "      <td>Sweet Cheeks</td>\n",
       "      <td>False</td>\n",
       "    </tr>\n",
       "  </tbody>\n",
       "</table>\n",
       "</div>"
      ],
      "text/plain": [
       "    country                                        description  \\\n",
       "0     Italy  Aromas include tropical fruit, broom, brimston...   \n",
       "1  Portugal  This is ripe and fruity, a wine that is smooth...   \n",
       "2        US  Tart and snappy, the flavors of lime flesh and...   \n",
       "3        US  Pineapple rind, lemon pith and orange blossom ...   \n",
       "4        US  Much like the regular bottling from 2012, this...   \n",
       "\n",
       "                          designation  points price           province  \\\n",
       "0                        Vulkà Bianco      87        Sicily & Sardinia   \n",
       "1                            Avidagos      87  15.0              Douro   \n",
       "2                                          87  14.0             Oregon   \n",
       "3                Reserve Late Harvest      87  13.0           Michigan   \n",
       "4  Vintner's Reserve Wild Child Block      87  65.0             Oregon   \n",
       "\n",
       "              region_1           region_2         taster_name  \\\n",
       "0                 Etna                          Kerin O’Keefe   \n",
       "1                                                  Roger Voss   \n",
       "2    Willamette Valley  Willamette Valley        Paul Gregutt   \n",
       "3  Lake Michigan Shore                     Alexander Peartree   \n",
       "4    Willamette Valley  Willamette Valley        Paul Gregutt   \n",
       "\n",
       "  taster_twitter_handle                                              title  \\\n",
       "0          @kerinokeefe                  Nicosia 2013 Vulkà Bianco  (Etna)   \n",
       "1            @vossroger      Quinta dos Avidagos 2011 Avidagos Red (Douro)   \n",
       "2           @paulgwine       Rainstorm 2013 Pinot Gris (Willamette Valley)   \n",
       "3                        St. Julian 2013 Reserve Late Harvest Riesling ...   \n",
       "4           @paulgwine   Sweet Cheeks 2012 Vintner's Reserve Wild Child...   \n",
       "\n",
       "          variety               winery   >=90  \n",
       "0     White Blend              Nicosia  False  \n",
       "1  Portuguese Red  Quinta dos Avidagos  False  \n",
       "2      Pinot Gris            Rainstorm  False  \n",
       "3        Riesling           St. Julian  False  \n",
       "4      Pinot Noir         Sweet Cheeks  False  "
      ]
     },
     "execution_count": 140,
     "metadata": {},
     "output_type": "execute_result"
    }
   ],
   "source": [
    "data['>=90'] = data['points'] >= 90\n",
    "\n",
    "data.head()"
   ]
  },
  {
   "cell_type": "markdown",
   "metadata": {},
   "source": [
    "Из всего многообразия признаков нас будет интересовать **description** -- признак содержащий описание вина и **points** -- присужденный балл"
   ]
  },
  {
   "cell_type": "markdown",
   "metadata": {},
   "source": [
    "#### Задание 1\n",
    "Выделите из данных X и y"
   ]
  },
  {
   "cell_type": "code",
   "execution_count": 141,
   "metadata": {},
   "outputs": [],
   "source": [
    "X = data['description']\n",
    "y = data['>=90']"
   ]
  },
  {
   "cell_type": "markdown",
   "metadata": {},
   "source": [
    "## Извлечение признаков из текстов\n",
    "\n",
    "Перед тем как работать с текстом, его необходимо токенизировать - разбить на отдельные токены. В качестве токенов могут выступать слова, фразы, предложений и т.п. Токенизировать текст можно  помощью регулярных выражений или готовых токенизаторов. \n",
    "\n",
    "После токенизации нужно привести текст к нормальной форме. Речь идет о [стемминге и/или лемматизации](https://nlp.stanford.edu/IR-book/html/htmledition/stemming-and-lemmatization-1.html) - это схожие процессы, используемые для обработки словоформ.\n",
    "\n",
    "Для работы лемматизации английского текста можно воспользоваться библиотекой nltk:"
   ]
  },
  {
   "cell_type": "code",
   "execution_count": 142,
   "metadata": {},
   "outputs": [
    {
     "name": "stdout",
     "output_type": "stream",
     "text": [
      "[nltk_data] Downloading package punkt to /home/yury/nltk_data...\n",
      "[nltk_data]   Package punkt is already up-to-date!\n",
      "[nltk_data] Downloading package wordnet to /home/yury/nltk_data...\n",
      "[nltk_data]   Package wordnet is already up-to-date!\n"
     ]
    },
    {
     "data": {
      "text/plain": [
       "True"
      ]
     },
     "execution_count": 142,
     "metadata": {},
     "output_type": "execute_result"
    }
   ],
   "source": [
    "import nltk\n",
    "nltk.download('punkt')\n",
    "nltk.download('wordnet')"
   ]
  },
  {
   "cell_type": "markdown",
   "metadata": {},
   "source": [
    "#### Задание 2\n",
    "Токенизируйте тексты. Сейчас Х - это набор из строк-текстов. Разбейте каждый текст на слова (токенизируйте его), каждое из которых написано в нижнем регистре.\n",
    "\n",
    "(Вам могут понадобиться функция word_tokenize из nltk.tokenize, а также методы строк isalpha и lower)"
   ]
  },
  {
   "cell_type": "code",
   "execution_count": 143,
   "metadata": {},
   "outputs": [],
   "source": [
    "from nltk.tokenize import word_tokenize\n",
    "from tqdm import tqdm_notebook\n",
    "\n",
    "# [for x in tqdm_notebook(X)]\n",
    "\n",
    "tokens = [list(filter(str.isalpha, word_tokenize(sentence.lower()))) for sentence in X  ]"
   ]
  },
  {
   "cell_type": "code",
   "execution_count": 144,
   "metadata": {},
   "outputs": [
    {
     "data": {
      "text/plain": [
       "['Hello', ',', 'it', \"'s\", 'me', 'Vasya1']"
      ]
     },
     "execution_count": 144,
     "metadata": {},
     "output_type": "execute_result"
    }
   ],
   "source": [
    "from nltk.tokenize import word_tokenize\n",
    "\n",
    "word_tokenize('Hello, it\\'s me Vasya1')"
   ]
  },
  {
   "cell_type": "code",
   "execution_count": 145,
   "metadata": {},
   "outputs": [
    {
     "data": {
      "text/plain": [
       "[1, 4, 16]"
      ]
     },
     "execution_count": 145,
     "metadata": {},
     "output_type": "execute_result"
    }
   ],
   "source": [
    "a = [1,2,4]\n",
    "[item ** 2 for item in a]"
   ]
  },
  {
   "cell_type": "code",
   "execution_count": 146,
   "metadata": {},
   "outputs": [
    {
     "data": {
      "text/plain": [
       "'masha'"
      ]
     },
     "execution_count": 146,
     "metadata": {},
     "output_type": "execute_result"
    }
   ],
   "source": [
    "'Masha'.lower()"
   ]
  },
  {
   "cell_type": "code",
   "execution_count": 147,
   "metadata": {},
   "outputs": [
    {
     "data": {
      "text/plain": [
       "(False, True)"
      ]
     },
     "execution_count": 147,
     "metadata": {},
     "output_type": "execute_result"
    }
   ],
   "source": [
    "'Masha123'.isalpha(), 'Vasya'.isalpha()"
   ]
  },
  {
   "cell_type": "code",
   "execution_count": 148,
   "metadata": {},
   "outputs": [
    {
     "data": {
      "text/plain": [
       "['aromas',\n",
       " 'include',\n",
       " 'tropical',\n",
       " 'fruit',\n",
       " 'broom',\n",
       " 'brimstone',\n",
       " 'and',\n",
       " 'dried',\n",
       " 'herb',\n",
       " 'the',\n",
       " 'palate',\n",
       " 'is',\n",
       " 'overly',\n",
       " 'expressive',\n",
       " 'offering',\n",
       " 'unripened',\n",
       " 'apple',\n",
       " 'citrus',\n",
       " 'and',\n",
       " 'dried',\n",
       " 'sage',\n",
       " 'alongside',\n",
       " 'brisk',\n",
       " 'acidity']"
      ]
     },
     "execution_count": 148,
     "metadata": {},
     "output_type": "execute_result"
    }
   ],
   "source": [
    "tokens[0]"
   ]
  },
  {
   "cell_type": "markdown",
   "metadata": {},
   "source": [
    "#### Задание 3\n",
    "Теперь, когда для каждого текста у вас есть набор слов, встречающихся в нем, можно переходить к лемматизации.\n",
    "Лемматизируйте все слова с помощью WordNetLemmatizer и объедините получившиеся слова в одну строку через пробел, запишите результат в X"
   ]
  },
  {
   "cell_type": "code",
   "execution_count": 149,
   "metadata": {},
   "outputs": [],
   "source": [
    "from nltk.stem import WordNetLemmatizer\n",
    "\n",
    "lemmatizer = WordNetLemmatizer()\n",
    "#lemmatizer.lemmatize(<word>)\n",
    "\n",
    "X = [' '.join([lemmatizer.lemmatize(word) for word in sentence]) for sentence in tokens]"
   ]
  },
  {
   "cell_type": "code",
   "execution_count": 150,
   "metadata": {},
   "outputs": [
    {
     "data": {
      "text/plain": [
       "'aroma include tropical fruit broom brimstone and dried herb the palate is overly expressive offering unripened apple citrus and dried sage alongside brisk acidity'"
      ]
     },
     "execution_count": 150,
     "metadata": {},
     "output_type": "execute_result"
    }
   ],
   "source": [
    "X[0]"
   ]
  },
  {
   "cell_type": "code",
   "execution_count": 151,
   "metadata": {},
   "outputs": [
    {
     "data": {
      "text/plain": [
       "['aroma include tropical fruit broom brimstone and dried herb the palate is overly expressive offering unripened apple citrus and dried sage alongside brisk acidity',\n",
       " 'this is ripe and fruity a wine that is smooth while still structured firm tannin are filled out with juicy red berry fruit and freshened with acidity it already drinkable although it will certainly be better from',\n",
       " 'tart and snappy the flavor of lime flesh and rind dominate some green pineapple poke through with crisp acidity underscoring the flavor the wine wa all fermented',\n",
       " 'pineapple rind lemon pith and orange blossom start off the aroma the palate is a bit more opulent with note of guava and mango giving way to a slightly astringent semidry finish',\n",
       " 'much like the regular bottling from this come across a rather rough and tannic with rustic earthy herbal characteristic nonetheless if you think of it a a pleasantly unfussy country wine it a good companion to a hearty winter stew']"
      ]
     },
     "execution_count": 151,
     "metadata": {},
     "output_type": "execute_result"
    }
   ],
   "source": [
    "X[:5]"
   ]
  },
  {
   "cell_type": "code",
   "execution_count": 152,
   "metadata": {},
   "outputs": [],
   "source": [
    "from sklearn.model_selection import train_test_split\n",
    "\n",
    "X_train, X_test, y_train, y_test = train_test_split(X, y, test_size=0.1)"
   ]
  },
  {
   "cell_type": "code",
   "execution_count": 153,
   "metadata": {},
   "outputs": [],
   "source": [
    "y_train = y_train.values\n",
    "y_test = y_test.values"
   ]
  },
  {
   "cell_type": "markdown",
   "metadata": {},
   "source": [
    "### Bag of Words\n",
    "\n",
    "Cоздаем вектор длиной в словарь, для каждого слова считаем количество вхождений в текст и подставляем это число на соответствующую позицию в векторе.\n",
    "\n",
    "Построим модель BOW с помощью [CountVectorizer](http://scikit-learn.org/stable/modules/generated/sklearn.feature_extraction.text.CountVectorizer.html)"
   ]
  },
  {
   "cell_type": "code",
   "execution_count": 154,
   "metadata": {},
   "outputs": [
    {
     "name": "stdout",
     "output_type": "stream",
     "text": [
      "Размер словаря: 26541\n",
      "Top-10 слов: and; the; of; with; this; it; is; wine; flavor; in\n"
     ]
    }
   ],
   "source": [
    "from sklearn.feature_extraction.text import CountVectorizer\n",
    "\n",
    "vectorizer = CountVectorizer()\n",
    "vectorizer.fit(X_train)\n",
    "\n",
    "vocabulary = vectorizer.get_feature_names()\n",
    "print('Размер словаря: %d' % len(vocabulary))\n",
    "\n",
    "description_count = vectorizer.transform(X_train)\n",
    "top_tokens, _ = zip(*sorted(zip(vocabulary, description_count.sum(axis=0).getA1()), \n",
    "                            key=lambda x: x[1], reverse=True)[:10])\n",
    "print('Top-10 слов: %s'%'; '.join(top_tokens))"
   ]
  },
  {
   "cell_type": "markdown",
   "metadata": {},
   "source": [
    "Видно, что большая часть из топ-10 слов является не информативными - стоп-словами. Что бы они не участвовали в представлении, в конструктор CountVectorizer в качестве параметра можно передать список стоп-слов:"
   ]
  },
  {
   "cell_type": "code",
   "execution_count": 155,
   "metadata": {},
   "outputs": [
    {
     "name": "stdout",
     "output_type": "stream",
     "text": [
      "[nltk_data] Downloading package stopwords to /home/yury/nltk_data...\n",
      "[nltk_data]   Package stopwords is already up-to-date!\n"
     ]
    },
    {
     "data": {
      "text/plain": [
       "True"
      ]
     },
     "execution_count": 155,
     "metadata": {},
     "output_type": "execute_result"
    }
   ],
   "source": [
    "from nltk.corpus import stopwords\n",
    "nltk.download('stopwords')"
   ]
  },
  {
   "cell_type": "code",
   "execution_count": 156,
   "metadata": {},
   "outputs": [
    {
     "data": {
      "text/plain": [
       "True"
      ]
     },
     "execution_count": 156,
     "metadata": {},
     "output_type": "execute_result"
    }
   ],
   "source": [
    "'has' in stopwords.words('english')"
   ]
  },
  {
   "cell_type": "code",
   "execution_count": 157,
   "metadata": {},
   "outputs": [
    {
     "name": "stdout",
     "output_type": "stream",
     "text": [
      "Размер словаря: 26418\n",
      "Top-10 слов: wine; flavor; fruit; aroma; finish; palate; acidity; tannin; cherry; drink\n"
     ]
    }
   ],
   "source": [
    "stop_words = set(stopwords.words('english'))\n",
    "vectorizer = CountVectorizer(stop_words=stop_words)\n",
    "vectorizer.fit(X_train)\n",
    "vocabulary = vectorizer.get_feature_names()\n",
    "print('Размер словаря: %d' % len(vocabulary))\n",
    "\n",
    "description_count = vectorizer.transform(X_train)\n",
    "top_tokens, _ = zip(*sorted(zip(vocabulary, description_count.sum(axis=0).getA1()), \n",
    "                            key=lambda x: x[1], reverse=True)[:10])\n",
    "print('Top-10 слов: %s'%'; '.join(top_tokens))"
   ]
  },
  {
   "cell_type": "code",
   "execution_count": 158,
   "metadata": {},
   "outputs": [
    {
     "data": {
      "text/plain": [
       "('wine',\n",
       " 'flavor',\n",
       " 'fruit',\n",
       " 'aroma',\n",
       " 'finish',\n",
       " 'palate',\n",
       " 'acidity',\n",
       " 'tannin',\n",
       " 'cherry',\n",
       " 'drink',\n",
       " 'ripe',\n",
       " 'black',\n",
       " 'note',\n",
       " 'ha',\n",
       " 'spice',\n",
       " 'red',\n",
       " 'berry',\n",
       " 'rich',\n",
       " 'fresh',\n",
       " 'nose')"
      ]
     },
     "execution_count": 158,
     "metadata": {},
     "output_type": "execute_result"
    }
   ],
   "source": [
    "top_tokens, _ = zip(*sorted(zip(vocabulary, description_count.sum(axis=0).getA1()), \n",
    "                            key=lambda x: x[1], reverse=True)[:20])\n",
    "top_tokens"
   ]
  },
  {
   "cell_type": "code",
   "execution_count": 159,
   "metadata": {},
   "outputs": [
    {
     "ename": "NameError",
     "evalue": "name 'pymorphy' is not defined",
     "output_type": "error",
     "traceback": [
      "\u001b[0;31m---------------------------------------------------------------------------\u001b[0m",
      "\u001b[0;31mNameError\u001b[0m                                 Traceback (most recent call last)",
      "\u001b[0;32m<ipython-input-159-0004131fa4cf>\u001b[0m in \u001b[0;36m<module>\u001b[0;34m()\u001b[0m\n\u001b[0;32m----> 1\u001b[0;31m \u001b[0mpymorphy\u001b[0m\u001b[0;34m\u001b[0m\u001b[0;34m\u001b[0m\u001b[0m\n\u001b[0m",
      "\u001b[0;31mNameError\u001b[0m: name 'pymorphy' is not defined"
     ]
    }
   ],
   "source": [
    "pymorphy"
   ]
  },
  {
   "cell_type": "markdown",
   "metadata": {},
   "source": [
    "Чтобы сжать векторное представление, можно \"отбросить\" редкие слова:"
   ]
  },
  {
   "cell_type": "code",
   "execution_count": 160,
   "metadata": {},
   "outputs": [
    {
     "name": "stdout",
     "output_type": "stream",
     "text": [
      "Размер словаря: 7669\n"
     ]
    }
   ],
   "source": [
    "vectorizer = CountVectorizer(stop_words=stop_words, min_df=10, max_df=).fit(X)\n",
    "vocabulary = vectorizer.get_feature_names()\n",
    "print('Размер словаря: %d'%len(vocabulary))\n",
    "\n",
    "X_train_bow = vectorizer.transform(X_train)\n",
    "X_test_bow = vectorizer.transform(X_test)"
   ]
  },
  {
   "cell_type": "code",
   "execution_count": 161,
   "metadata": {},
   "outputs": [
    {
     "data": {
      "text/plain": [
       "<116973x7669 sparse matrix of type '<class 'numpy.int64'>'\n",
       "\twith 2691639 stored elements in Compressed Sparse Row format>"
      ]
     },
     "execution_count": 161,
     "metadata": {},
     "output_type": "execute_result"
    }
   ],
   "source": [
    "X_train_bow"
   ]
  },
  {
   "cell_type": "code",
   "execution_count": 171,
   "metadata": {},
   "outputs": [],
   "source": [
    "word_counts = np.array(X_train_bow.sum(axis=0))[0]"
   ]
  },
  {
   "cell_type": "code",
   "execution_count": 173,
   "metadata": {},
   "outputs": [
    {
     "data": {
      "text/plain": [
       "[74514,\n",
       " 61754,\n",
       " 52699,\n",
       " 36847,\n",
       " 34764,\n",
       " 34376,\n",
       " 31507,\n",
       " 29615,\n",
       " 28501,\n",
       " 27450,\n",
       " 24395,\n",
       " 22860,\n",
       " 22728,\n",
       " 22184,\n",
       " 19608,\n",
       " 17227,\n",
       " 16061,\n",
       " 15600,\n",
       " 15286,\n",
       " 15141,\n",
       " 15023,\n",
       " 13959,\n",
       " 13944,\n",
       " 13433,\n",
       " 13430,\n",
       " 13133,\n",
       " 12360,\n",
       " 12156,\n",
       " 12149,\n",
       " 11521,\n",
       " 11256,\n",
       " 11174,\n",
       " 11102,\n",
       " 10255,\n",
       " 10195,\n",
       " 10172,\n",
       " 9941,\n",
       " 9879,\n",
       " 9777,\n",
       " 9693,\n",
       " 9660,\n",
       " 9640,\n",
       " 9542,\n",
       " 9143,\n",
       " 9094,\n",
       " 8967,\n",
       " 8748,\n",
       " 8532,\n",
       " 8529,\n",
       " 8475,\n",
       " 8402,\n",
       " 8298,\n",
       " 8237,\n",
       " 8193,\n",
       " 7991,\n",
       " 7827,\n",
       " 7603,\n",
       " 7491,\n",
       " 7442,\n",
       " 7114,\n",
       " 7060,\n",
       " 6897,\n",
       " 6852,\n",
       " 6754,\n",
       " 6656,\n",
       " 6502,\n",
       " 6460,\n",
       " 6419,\n",
       " 6364,\n",
       " 6172,\n",
       " 5943,\n",
       " 5880,\n",
       " 5728,\n",
       " 5723,\n",
       " 5629,\n",
       " 5595,\n",
       " 5543,\n",
       " 5514,\n",
       " 5514,\n",
       " 5512,\n",
       " 5461,\n",
       " 5393,\n",
       " 5318,\n",
       " 5312,\n",
       " 5267,\n",
       " 5215,\n",
       " 5208,\n",
       " 5196,\n",
       " 5172,\n",
       " 5171,\n",
       " 5165,\n",
       " 5088,\n",
       " 5080,\n",
       " 5076,\n",
       " 5068,\n",
       " 4996,\n",
       " 4888,\n",
       " 4865,\n",
       " 4860,\n",
       " 4849,\n",
       " 4846,\n",
       " 4770,\n",
       " 4763,\n",
       " 4716,\n",
       " 4693,\n",
       " 4686,\n",
       " 4675,\n",
       " 4671,\n",
       " 4668,\n",
       " 4650,\n",
       " 4537,\n",
       " 4532,\n",
       " 4531,\n",
       " 4508,\n",
       " 4475,\n",
       " 4437,\n",
       " 4398,\n",
       " 4284,\n",
       " 4270,\n",
       " 4264,\n",
       " 4217,\n",
       " 4193,\n",
       " 4085,\n",
       " 4071,\n",
       " 4069,\n",
       " 4026,\n",
       " 3954,\n",
       " 3915,\n",
       " 3887,\n",
       " 3880,\n",
       " 3843,\n",
       " 3836,\n",
       " 3830,\n",
       " 3828,\n",
       " 3823,\n",
       " 3727,\n",
       " 3719,\n",
       " 3678,\n",
       " 3653,\n",
       " 3652,\n",
       " 3576,\n",
       " 3555,\n",
       " 3539,\n",
       " 3511,\n",
       " 3508,\n",
       " 3498,\n",
       " 3490,\n",
       " 3449,\n",
       " 3448,\n",
       " 3436,\n",
       " 3432,\n",
       " 3388,\n",
       " 3358,\n",
       " 3349,\n",
       " 3344,\n",
       " 3343,\n",
       " 3326,\n",
       " 3324,\n",
       " 3303,\n",
       " 3271,\n",
       " 3265,\n",
       " 3231,\n",
       " 3204,\n",
       " 3197,\n",
       " 3191,\n",
       " 3136,\n",
       " 3122,\n",
       " 3117,\n",
       " 3106,\n",
       " 3068,\n",
       " 3065,\n",
       " 3051,\n",
       " 3043,\n",
       " 3027,\n",
       " 3026,\n",
       " 3012,\n",
       " 3011,\n",
       " 2959,\n",
       " 2949,\n",
       " 2919,\n",
       " 2908,\n",
       " 2907,\n",
       " 2901,\n",
       " 2881,\n",
       " 2878,\n",
       " 2870,\n",
       " 2870,\n",
       " 2836,\n",
       " 2827,\n",
       " 2804,\n",
       " 2780,\n",
       " 2735,\n",
       " 2717,\n",
       " 2703,\n",
       " 2688,\n",
       " 2684,\n",
       " 2655,\n",
       " 2645,\n",
       " 2634,\n",
       " 2631,\n",
       " 2621,\n",
       " 2610,\n",
       " 2591,\n",
       " 2568,\n",
       " 2565,\n",
       " 2545,\n",
       " 2536,\n",
       " 2531,\n",
       " 2531,\n",
       " 2526,\n",
       " 2522,\n",
       " 2522,\n",
       " 2518,\n",
       " 2516,\n",
       " 2512,\n",
       " 2505,\n",
       " 2498,\n",
       " 2492,\n",
       " 2491,\n",
       " 2465,\n",
       " 2465,\n",
       " 2451,\n",
       " 2442,\n",
       " 2432,\n",
       " 2421,\n",
       " 2408,\n",
       " 2394,\n",
       " 2378,\n",
       " 2362,\n",
       " 2350,\n",
       " 2333,\n",
       " 2327,\n",
       " 2322,\n",
       " 2316,\n",
       " 2315,\n",
       " 2310,\n",
       " 2309,\n",
       " 2305,\n",
       " 2289,\n",
       " 2288,\n",
       " 2288,\n",
       " 2281,\n",
       " 2268,\n",
       " 2262,\n",
       " 2261,\n",
       " 2260,\n",
       " 2260,\n",
       " 2225,\n",
       " 2210,\n",
       " 2209,\n",
       " 2194,\n",
       " 2192,\n",
       " 2183,\n",
       " 2182,\n",
       " 2170,\n",
       " 2164,\n",
       " 2160,\n",
       " 2159,\n",
       " 2158,\n",
       " 2144,\n",
       " 2144,\n",
       " 2142,\n",
       " 2134,\n",
       " 2128,\n",
       " 2124,\n",
       " 2106,\n",
       " 2102,\n",
       " 2095,\n",
       " 2070,\n",
       " 2067,\n",
       " 2065,\n",
       " 2028,\n",
       " 2027,\n",
       " 2010,\n",
       " 2008,\n",
       " 2007,\n",
       " 2002,\n",
       " 1997,\n",
       " 1984,\n",
       " 1983,\n",
       " 1982,\n",
       " 1975,\n",
       " 1950,\n",
       " 1944,\n",
       " 1943,\n",
       " 1940,\n",
       " 1940,\n",
       " 1939,\n",
       " 1938,\n",
       " 1927,\n",
       " 1921,\n",
       " 1912,\n",
       " 1909,\n",
       " 1900,\n",
       " 1865,\n",
       " 1854,\n",
       " 1850,\n",
       " 1846,\n",
       " 1838,\n",
       " 1826,\n",
       " 1814,\n",
       " 1808,\n",
       " 1796,\n",
       " 1796,\n",
       " 1792,\n",
       " 1791,\n",
       " 1788,\n",
       " 1780,\n",
       " 1777,\n",
       " 1777,\n",
       " 1768,\n",
       " 1764,\n",
       " 1753,\n",
       " 1748,\n",
       " 1739,\n",
       " 1725,\n",
       " 1706,\n",
       " 1706,\n",
       " 1696,\n",
       " 1693,\n",
       " 1693,\n",
       " 1675,\n",
       " 1670,\n",
       " 1670,\n",
       " 1667,\n",
       " 1646,\n",
       " 1645,\n",
       " 1645,\n",
       " 1644,\n",
       " 1636,\n",
       " 1632,\n",
       " 1622,\n",
       " 1621,\n",
       " 1604,\n",
       " 1601,\n",
       " 1579,\n",
       " 1577,\n",
       " 1562,\n",
       " 1555,\n",
       " 1529,\n",
       " 1529,\n",
       " 1520,\n",
       " 1507,\n",
       " 1489,\n",
       " 1482,\n",
       " 1468,\n",
       " 1466,\n",
       " 1459,\n",
       " 1458,\n",
       " 1457,\n",
       " 1455,\n",
       " 1452,\n",
       " 1449,\n",
       " 1432,\n",
       " 1430,\n",
       " 1428,\n",
       " 1426,\n",
       " 1418,\n",
       " 1397,\n",
       " 1389,\n",
       " 1386,\n",
       " 1384,\n",
       " 1379,\n",
       " 1379,\n",
       " 1378,\n",
       " 1363,\n",
       " 1350,\n",
       " 1349,\n",
       " 1344,\n",
       " 1338,\n",
       " 1337,\n",
       " 1320,\n",
       " 1310,\n",
       " 1310,\n",
       " 1304,\n",
       " 1294,\n",
       " 1293,\n",
       " 1292,\n",
       " 1292,\n",
       " 1292,\n",
       " 1276,\n",
       " 1271,\n",
       " 1268,\n",
       " 1266,\n",
       " 1262,\n",
       " 1257,\n",
       " 1249,\n",
       " 1247,\n",
       " 1244,\n",
       " 1244,\n",
       " 1240,\n",
       " 1238,\n",
       " 1230,\n",
       " 1224,\n",
       " 1221,\n",
       " 1219,\n",
       " 1215,\n",
       " 1182,\n",
       " 1177,\n",
       " 1173,\n",
       " 1170,\n",
       " 1169,\n",
       " 1169,\n",
       " 1168,\n",
       " 1158,\n",
       " 1155,\n",
       " 1154,\n",
       " 1151,\n",
       " 1150,\n",
       " 1144,\n",
       " 1140,\n",
       " 1135,\n",
       " 1129,\n",
       " 1126,\n",
       " 1123,\n",
       " 1118,\n",
       " 1115,\n",
       " 1115,\n",
       " 1114,\n",
       " 1112,\n",
       " 1108,\n",
       " 1107,\n",
       " 1102,\n",
       " 1099,\n",
       " 1099,\n",
       " 1095,\n",
       " 1080,\n",
       " 1080,\n",
       " 1080,\n",
       " 1079,\n",
       " 1079,\n",
       " 1075,\n",
       " 1074,\n",
       " 1073,\n",
       " 1069,\n",
       " 1067,\n",
       " 1063,\n",
       " 1059,\n",
       " 1058,\n",
       " 1053,\n",
       " 1052,\n",
       " 1049,\n",
       " 1048,\n",
       " 1047,\n",
       " 1046,\n",
       " 1044,\n",
       " 1043,\n",
       " 1042,\n",
       " 1038,\n",
       " 1038,\n",
       " 1038,\n",
       " 1035,\n",
       " 1033,\n",
       " 1029,\n",
       " 1025,\n",
       " 1015,\n",
       " 1014,\n",
       " 1011,\n",
       " 1009,\n",
       " 1008,\n",
       " 999,\n",
       " 989,\n",
       " 989,\n",
       " 985,\n",
       " 985,\n",
       " 980,\n",
       " 979,\n",
       " 979,\n",
       " 976,\n",
       " 975,\n",
       " 973,\n",
       " 970,\n",
       " 970,\n",
       " 969,\n",
       " 966,\n",
       " 959,\n",
       " 959,\n",
       " 958,\n",
       " 957,\n",
       " 956,\n",
       " 951,\n",
       " 951,\n",
       " 947,\n",
       " 945,\n",
       " 941,\n",
       " 937,\n",
       " 931,\n",
       " 931,\n",
       " 930,\n",
       " 930,\n",
       " 929,\n",
       " 927,\n",
       " 924,\n",
       " 924,\n",
       " 924,\n",
       " 918,\n",
       " 916,\n",
       " 910,\n",
       " 909,\n",
       " 906,\n",
       " 906,\n",
       " 904,\n",
       " 902,\n",
       " 898,\n",
       " 898,\n",
       " 895,\n",
       " 890,\n",
       " 882,\n",
       " 882,\n",
       " 880,\n",
       " 879,\n",
       " 879,\n",
       " 877,\n",
       " 877,\n",
       " 876,\n",
       " 875,\n",
       " 872,\n",
       " 872,\n",
       " 870,\n",
       " 870,\n",
       " 867,\n",
       " 866,\n",
       " 866,\n",
       " 866,\n",
       " 864,\n",
       " 860,\n",
       " 858,\n",
       " 850,\n",
       " 849,\n",
       " 848,\n",
       " 845,\n",
       " 844,\n",
       " 843,\n",
       " 841,\n",
       " 840,\n",
       " 839,\n",
       " 838,\n",
       " 837,\n",
       " 837,\n",
       " 836,\n",
       " 835,\n",
       " 826,\n",
       " 826,\n",
       " 822,\n",
       " 822,\n",
       " 820,\n",
       " 819,\n",
       " 818,\n",
       " 818,\n",
       " 816,\n",
       " 813,\n",
       " 811,\n",
       " 809,\n",
       " 809,\n",
       " 805,\n",
       " 802,\n",
       " 802,\n",
       " 802,\n",
       " 801,\n",
       " 801,\n",
       " 801,\n",
       " 800,\n",
       " 797,\n",
       " 796,\n",
       " 796,\n",
       " 795,\n",
       " 794,\n",
       " 791,\n",
       " 790,\n",
       " 790,\n",
       " 788,\n",
       " 786,\n",
       " 785,\n",
       " 785,\n",
       " 784,\n",
       " 782,\n",
       " 779,\n",
       " 779,\n",
       " 777,\n",
       " 776,\n",
       " 771,\n",
       " 769,\n",
       " 766,\n",
       " 765,\n",
       " 765,\n",
       " 763,\n",
       " 762,\n",
       " 761,\n",
       " 760,\n",
       " 759,\n",
       " 759,\n",
       " 757,\n",
       " 756,\n",
       " 755,\n",
       " 755,\n",
       " 753,\n",
       " 752,\n",
       " 749,\n",
       " 749,\n",
       " 748,\n",
       " 747,\n",
       " 747,\n",
       " 746,\n",
       " 744,\n",
       " 744,\n",
       " 743,\n",
       " 741,\n",
       " 738,\n",
       " 736,\n",
       " 735,\n",
       " 729,\n",
       " 726,\n",
       " 722,\n",
       " 720,\n",
       " 720,\n",
       " 719,\n",
       " 719,\n",
       " 718,\n",
       " 716,\n",
       " 715,\n",
       " 713,\n",
       " 713,\n",
       " 710,\n",
       " 710,\n",
       " 710,\n",
       " 709,\n",
       " 707,\n",
       " 707,\n",
       " 706,\n",
       " 706,\n",
       " 703,\n",
       " 701,\n",
       " 699,\n",
       " 697,\n",
       " 695,\n",
       " 695,\n",
       " 694,\n",
       " 692,\n",
       " 690,\n",
       " 690,\n",
       " 687,\n",
       " 687,\n",
       " 686,\n",
       " 686,\n",
       " 684,\n",
       " 682,\n",
       " 678,\n",
       " 678,\n",
       " 677,\n",
       " 676,\n",
       " 675,\n",
       " 675,\n",
       " 674,\n",
       " 673,\n",
       " 671,\n",
       " 668,\n",
       " 668,\n",
       " 667,\n",
       " 665,\n",
       " 665,\n",
       " 665,\n",
       " 664,\n",
       " 664,\n",
       " 662,\n",
       " 659,\n",
       " 658,\n",
       " 658,\n",
       " 657,\n",
       " 656,\n",
       " 655,\n",
       " 653,\n",
       " 653,\n",
       " 651,\n",
       " 648,\n",
       " 646,\n",
       " 644,\n",
       " 642,\n",
       " 641,\n",
       " 638,\n",
       " 638,\n",
       " 638,\n",
       " 637,\n",
       " 636,\n",
       " 636,\n",
       " 635,\n",
       " 634,\n",
       " 634,\n",
       " 633,\n",
       " 631,\n",
       " 630,\n",
       " 628,\n",
       " 627,\n",
       " 627,\n",
       " 627,\n",
       " 625,\n",
       " 624,\n",
       " 623,\n",
       " 623,\n",
       " 622,\n",
       " 621,\n",
       " 618,\n",
       " 617,\n",
       " 616,\n",
       " 616,\n",
       " 615,\n",
       " 615,\n",
       " 614,\n",
       " 614,\n",
       " 614,\n",
       " 614,\n",
       " 613,\n",
       " 613,\n",
       " 612,\n",
       " 611,\n",
       " 611,\n",
       " 611,\n",
       " 611,\n",
       " 610,\n",
       " 610,\n",
       " 608,\n",
       " 603,\n",
       " 603,\n",
       " 602,\n",
       " 601,\n",
       " 600,\n",
       " 599,\n",
       " 598,\n",
       " 597,\n",
       " 597,\n",
       " 596,\n",
       " 596,\n",
       " 594,\n",
       " 594,\n",
       " 594,\n",
       " 593,\n",
       " 591,\n",
       " 590,\n",
       " 590,\n",
       " 588,\n",
       " 584,\n",
       " 584,\n",
       " 582,\n",
       " 581,\n",
       " 580,\n",
       " 579,\n",
       " 578,\n",
       " 577,\n",
       " 575,\n",
       " 574,\n",
       " 574,\n",
       " 573,\n",
       " 572,\n",
       " 570,\n",
       " 570,\n",
       " 568,\n",
       " 568,\n",
       " 567,\n",
       " 565,\n",
       " 564,\n",
       " 563,\n",
       " 562,\n",
       " 561,\n",
       " 560,\n",
       " 559,\n",
       " 559,\n",
       " 558,\n",
       " 558,\n",
       " 557,\n",
       " 557,\n",
       " 557,\n",
       " 557,\n",
       " 555,\n",
       " 555,\n",
       " 555,\n",
       " 553,\n",
       " 552,\n",
       " 551,\n",
       " 549,\n",
       " 549,\n",
       " 549,\n",
       " 548,\n",
       " 546,\n",
       " 545,\n",
       " 543,\n",
       " 542,\n",
       " 540,\n",
       " 538,\n",
       " 537,\n",
       " 537,\n",
       " 537,\n",
       " 536,\n",
       " 536,\n",
       " 531,\n",
       " 531,\n",
       " 530,\n",
       " 529,\n",
       " 529,\n",
       " 526,\n",
       " 525,\n",
       " 524,\n",
       " 523,\n",
       " 523,\n",
       " 523,\n",
       " 520,\n",
       " 520,\n",
       " 520,\n",
       " 519,\n",
       " 519,\n",
       " 519,\n",
       " 518,\n",
       " 516,\n",
       " 516,\n",
       " 516,\n",
       " 515,\n",
       " 513,\n",
       " 513,\n",
       " 513,\n",
       " 512,\n",
       " 512,\n",
       " 511,\n",
       " 511,\n",
       " 510,\n",
       " 510,\n",
       " 509,\n",
       " 508,\n",
       " 506,\n",
       " 506,\n",
       " 502,\n",
       " 499,\n",
       " 497,\n",
       " 494,\n",
       " 492,\n",
       " 491,\n",
       " 490,\n",
       " 489,\n",
       " 489,\n",
       " 486,\n",
       " 484,\n",
       " 482,\n",
       " 481,\n",
       " 481,\n",
       " 481,\n",
       " 480,\n",
       " 480,\n",
       " 478,\n",
       " 478,\n",
       " 478,\n",
       " 478,\n",
       " 477,\n",
       " 477,\n",
       " 477,\n",
       " 477,\n",
       " 476,\n",
       " 476,\n",
       " 475,\n",
       " 472,\n",
       " 472,\n",
       " 471,\n",
       " 470,\n",
       " 468,\n",
       " 466,\n",
       " 465,\n",
       " 465,\n",
       " 464,\n",
       " 463,\n",
       " 462,\n",
       " 462,\n",
       " 462,\n",
       " 460,\n",
       " 459,\n",
       " 455,\n",
       " 454,\n",
       " 454,\n",
       " 454,\n",
       " 453,\n",
       " 452,\n",
       " 452,\n",
       " 450,\n",
       " 450,\n",
       " 450,\n",
       " 450,\n",
       " 450,\n",
       " 449,\n",
       " 446,\n",
       " 445,\n",
       " 445,\n",
       " 445,\n",
       " 444,\n",
       " 444,\n",
       " 444,\n",
       " 443,\n",
       " 443,\n",
       " 443,\n",
       " 441,\n",
       " 441,\n",
       " 441,\n",
       " 440,\n",
       " 440,\n",
       " 440,\n",
       " 439,\n",
       " 439,\n",
       " 438,\n",
       " 435,\n",
       " 434,\n",
       " 433,\n",
       " 432,\n",
       " 431,\n",
       " 431,\n",
       " 430,\n",
       " 430,\n",
       " 429,\n",
       " 428,\n",
       " 428,\n",
       " 428,\n",
       " 428,\n",
       " 423,\n",
       " 423,\n",
       " 422,\n",
       " 422,\n",
       " 421,\n",
       " 421,\n",
       " 421,\n",
       " 420,\n",
       " 420,\n",
       " 419,\n",
       " 419,\n",
       " 418,\n",
       " 418,\n",
       " 416,\n",
       " 416,\n",
       " 415,\n",
       " 415,\n",
       " 414,\n",
       " 413,\n",
       " 413,\n",
       " 413,\n",
       " 413,\n",
       " 412,\n",
       " 412,\n",
       " 411,\n",
       " 410,\n",
       " 409,\n",
       " 408,\n",
       " 408,\n",
       " 407,\n",
       " 407,\n",
       " 406,\n",
       " 406,\n",
       " 406,\n",
       " 405,\n",
       " 404,\n",
       " 403,\n",
       " 403,\n",
       " 402,\n",
       " 402,\n",
       " 401,\n",
       " 401,\n",
       " 399,\n",
       " 399,\n",
       " 399,\n",
       " 399,\n",
       " 398,\n",
       " 397,\n",
       " 396,\n",
       " 396,\n",
       " 396,\n",
       " 396,\n",
       " 396,\n",
       " 394,\n",
       " 394,\n",
       " 393,\n",
       " 393,\n",
       " 392,\n",
       " 390,\n",
       " 390,\n",
       " 390,\n",
       " 389,\n",
       " 389,\n",
       " 389,\n",
       " 389,\n",
       " 389,\n",
       " 389,\n",
       " 389,\n",
       " 389,\n",
       " 389,\n",
       " 388,\n",
       " 388,\n",
       " 388,\n",
       " 388,\n",
       " 387,\n",
       " 387,\n",
       " 387,\n",
       " 387,\n",
       " 385,\n",
       " 385,\n",
       " 385,\n",
       " 384,\n",
       " 384,\n",
       " 384,\n",
       " 383,\n",
       " ...]"
      ]
     },
     "execution_count": 173,
     "metadata": {},
     "output_type": "execute_result"
    }
   ],
   "source": [
    "sorted(word_counts, reverse=True)"
   ]
  },
  {
   "cell_type": "code",
   "execution_count": null,
   "metadata": {},
   "outputs": [],
   "source": []
  },
  {
   "cell_type": "code",
   "execution_count": null,
   "metadata": {},
   "outputs": [],
   "source": []
  },
  {
   "cell_type": "code",
   "execution_count": null,
   "metadata": {},
   "outputs": [],
   "source": []
  },
  {
   "cell_type": "code",
   "execution_count": null,
   "metadata": {},
   "outputs": [],
   "source": []
  },
  {
   "cell_type": "code",
   "execution_count": null,
   "metadata": {},
   "outputs": [],
   "source": []
  },
  {
   "cell_type": "markdown",
   "metadata": {},
   "source": [
    "### Naive Bayes"
   ]
  },
  {
   "cell_type": "code",
   "execution_count": 95,
   "metadata": {},
   "outputs": [],
   "source": [
    "from sklearn.naive_bayes import MultinomialNB"
   ]
  },
  {
   "cell_type": "code",
   "execution_count": 96,
   "metadata": {},
   "outputs": [],
   "source": [
    "nb_model = MultinomialNB()\n",
    "nb_model.fit(X_train_bow, y_train)\n",
    "y_pred = nb_model.predict_proba(X_test_bow)[:, 1]"
   ]
  },
  {
   "cell_type": "code",
   "execution_count": 97,
   "metadata": {},
   "outputs": [],
   "source": [
    "from sklearn.metrics import roc_auc_score, roc_curve"
   ]
  },
  {
   "cell_type": "code",
   "execution_count": 98,
   "metadata": {},
   "outputs": [
    {
     "name": "stdout",
     "output_type": "stream",
     "text": [
      "0.8618272031064609\n"
     ]
    },
    {
     "data": {
      "image/png": "[encoded data removed]",
      "text/plain": [
       "<Figure size 432x288 with 1 Axes>"
      ]
     },
     "metadata": {
      "needs_background": "light"
     },
     "output_type": "display_data"
    }
   ],
   "source": [
    "plt.plot(*roc_curve(y_test, y_pred)[:2], label='test roc_auc, BOW model')\n",
    "\n",
    "plt.plot([0, 1], [0, 1], '--', color='black',)\n",
    "plt.grid()\n",
    "plt.legend()\n",
    "\n",
    "print(roc_auc_score(y_test, y_pred))"
   ]
  },
  {
   "cell_type": "code",
   "execution_count": 162,
   "metadata": {},
   "outputs": [],
   "source": [
    "def plot_models(names, models, X_train, X_test, y_train, y_test):\n",
    "    \"\"\"\n",
    "    gets lists of names, models, lists of train and test samples, train and test answers\n",
    "    plots ROC curves\n",
    "    \"\"\"\n",
    "    \n",
    "    for name, model, X in zip(names, models, X_train):\n",
    "        proba = model.predict_proba(X)[:, 1]\n",
    "        auc = roc_auc_score(y_train, proba)\n",
    "        plt.plot(*roc_curve(y_train, proba)[:2], label='train %s AUC=%.4f' % (name, auc))\n",
    "    \n",
    "    for name, model, X in zip(names, models, X_test):\n",
    "        proba = model.predict_proba(X)[:, 1]\n",
    "        auc = roc_auc_score(y_test, proba)\n",
    "        plt.plot(*roc_curve(y_test, proba)[:2], label='test %s AUC=%.4f' % (name, auc))\n",
    "        \n",
    "        \n",
    "    plt.plot([0, 1], [0, 1], '--', color='black',)\n",
    "    plt.legend(fontsize='large')\n",
    "    plt.grid()\n",
    "    plt.show()"
   ]
  },
  {
   "cell_type": "code",
   "execution_count": 100,
   "metadata": {},
   "outputs": [
    {
     "data": {
      "image/png": "[encoded data removed]",
      "text/plain": [
       "<Figure size 432x288 with 1 Axes>"
      ]
     },
     "metadata": {
      "needs_background": "light"
     },
     "output_type": "display_data"
    }
   ],
   "source": [
    "plot_models(['nb'], [nb_model], [X_train_bow], [X_test_bow], y_train, y_test)"
   ]
  },
  {
   "cell_type": "markdown",
   "metadata": {},
   "source": [
    "### Логистическая регрессия: сравним качество"
   ]
  },
  {
   "cell_type": "code",
   "execution_count": 174,
   "metadata": {},
   "outputs": [],
   "source": [
    "from sklearn.linear_model import LogisticRegression\n",
    "\n",
    "logistic_model = LogisticRegression(C=0.1)\n",
    "logistic_model.fit(X_train_bow, y_train)\n",
    "y_pred = logistic_model.predict_proba(X_test_bow)[:, 1]"
   ]
  },
  {
   "cell_type": "code",
   "execution_count": 175,
   "metadata": {},
   "outputs": [
    {
     "data": {
      "text/plain": [
       "'sample'"
      ]
     },
     "execution_count": 175,
     "metadata": {},
     "output_type": "execute_result"
    }
   ],
   "source": [
    "vocabulary[np.argmax(logistic_model.coef_, )]"
   ]
  },
  {
   "cell_type": "code",
   "execution_count": 133,
   "metadata": {},
   "outputs": [],
   "source": [
    "threshold = sorted(logistic_model.coef_[0], reverse=True)[100]"
   ]
  },
  {
   "cell_type": "code",
   "execution_count": 134,
   "metadata": {},
   "outputs": [],
   "source": [
    "idx = []\n",
    "for i in range(len(logistic_model.coef_[0])):\n",
    "    if logistic_model.coef_[0][i] > threshold:\n",
    "        idx.append(i)\n",
    "idx = np.array(idx)"
   ]
  },
  {
   "cell_type": "code",
   "execution_count": 135,
   "metadata": {},
   "outputs": [
    {
     "data": {
      "text/plain": [
       "array(['acidity', 'age', 'aging', 'ample', 'anise', 'aromatic', 'baked',\n",
       "       'balance', 'beautiful', 'beautifully', 'beginning', 'black',\n",
       "       'blackberry', 'blueberry', 'bottling', 'boysenberry', 'brooding',\n",
       "       'buttery', 'cherry', 'combine', 'complete', 'complex',\n",
       "       'complexity', 'concentrated', 'concentration', 'cranberry',\n",
       "       'crème', 'dark', 'deep', 'delicious', 'dense', 'density', 'depth',\n",
       "       'dessert', 'drink', 'dusty', 'elderberry', 'elegant', 'element',\n",
       "       'estate', 'excellent', 'focused', 'fruitiness', 'grapefruit',\n",
       "       'great', 'impressive', 'integrated', 'intense', 'keep', 'layer',\n",
       "       'layered', 'lead', 'leather', 'length', 'lingering', 'long',\n",
       "       'lush', 'malbec', 'meet', 'minerality', 'mourvèdre', 'mushroom',\n",
       "       'nuanced', 'olive', 'one', 'opulent', 'peel', 'pith', 'planted',\n",
       "       'plush', 'powerful', 'quality', 'raspberry', 'really', 'refined',\n",
       "       'rich', 'savory', 'scent', 'serious', 'silky', 'smooth', 'streak',\n",
       "       'structured', 'subtle', 'tangerine', 'taut', 'textured', 'time',\n",
       "       'toasty', 'valley', 'velvety', 'vine', 'vineyard', 'vintage',\n",
       "       'well', 'wonderful', 'wonderfully', 'wood', 'year', 'yet'],\n",
       "      dtype='<U18')"
      ]
     },
     "execution_count": 135,
     "metadata": {},
     "output_type": "execute_result"
    }
   ],
   "source": [
    "np.array(vocabulary)[idx]"
   ]
  },
  {
   "cell_type": "code",
   "execution_count": 165,
   "metadata": {},
   "outputs": [
    {
     "data": {
      "image/png": "[encoded data removed]",
      "text/plain": [
       "<Figure size 432x288 with 1 Axes>"
      ]
     },
     "metadata": {
      "needs_background": "light"
     },
     "output_type": "display_data"
    }
   ],
   "source": [
    "plot_models(['nb', 'logistic regression'], [nb_model, logistic_model], \n",
    "            [X_train_bow] * 2, [X_test_bow] * 2, \n",
    "            y_train, y_test)"
   ]
  },
  {
   "cell_type": "code",
   "execution_count": null,
   "metadata": {},
   "outputs": [],
   "source": []
  },
  {
   "cell_type": "code",
   "execution_count": null,
   "metadata": {},
   "outputs": [],
   "source": []
  },
  {
   "cell_type": "code",
   "execution_count": null,
   "metadata": {},
   "outputs": [],
   "source": []
  },
  {
   "cell_type": "code",
   "execution_count": null,
   "metadata": {},
   "outputs": [],
   "source": []
  },
  {
   "cell_type": "code",
   "execution_count": null,
   "metadata": {},
   "outputs": [],
   "source": []
  },
  {
   "cell_type": "code",
   "execution_count": null,
   "metadata": {},
   "outputs": [],
   "source": []
  },
  {
   "cell_type": "code",
   "execution_count": null,
   "metadata": {},
   "outputs": [],
   "source": []
  },
  {
   "cell_type": "code",
   "execution_count": null,
   "metadata": {},
   "outputs": [],
   "source": []
  },
  {
   "cell_type": "markdown",
   "metadata": {},
   "source": [
    "### Добавление tf-idf фичей"
   ]
  },
  {
   "cell_type": "code",
   "execution_count": null,
   "metadata": {},
   "outputs": [],
   "source": [
    "from sklearn.feature_extraction.text import TfidfVectorizer"
   ]
  },
  {
   "cell_type": "code",
   "execution_count": null,
   "metadata": {},
   "outputs": [],
   "source": [
    "tf_idf_vectorizer = TfidfVectorizer(stop_words=stop_words, min_df=10).fit(X)\n",
    "vocabulary = tf_idf_vectorizer.get_feature_names()\n",
    "print('Размер словаря: %d'%len(vocabulary))\n",
    "\n",
    "X_train_tf_idf = tf_idf_vectorizer.transform(X_train)\n",
    "X_test_tf_idf = tf_idf_vectorizer.transform(X_test)"
   ]
  },
  {
   "cell_type": "code",
   "execution_count": null,
   "metadata": {},
   "outputs": [],
   "source": [
    "tf_idf_logistic_model = LogisticRegression()\n",
    "\n",
    "tf_idf_logistic_model.fit(X_train_tf_idf, y_train)"
   ]
  },
  {
   "cell_type": "code",
   "execution_count": null,
   "metadata": {},
   "outputs": [],
   "source": [
    "plot_models(['bow', 'tf-idf'], [logistic_model, tf_idf_logistic_model], \n",
    "            [X_train_bow, X_train_tf_idf], [X_test_bow, X_test_tf_idf] * 2, \n",
    "            y_train, y_test)"
   ]
  },
  {
   "cell_type": "markdown",
   "metadata": {},
   "source": [
    "### Кодирование предложений эмбеддингами слов"
   ]
  },
  {
   "cell_type": "code",
   "execution_count": null,
   "metadata": {},
   "outputs": [],
   "source": [
    "import gensim.downloader \n",
    "embeddings = gensim.downloader.load(\"glove-wiki-gigaword-100\")"
   ]
  },
  {
   "cell_type": "code",
   "execution_count": null,
   "metadata": {},
   "outputs": [],
   "source": [
    "def vectorize_sum(comment):\n",
    "    \"\"\"\n",
    "    implement a function that converts preprocessed comment to a sum of token vectors\n",
    "    \"\"\"\n",
    "    embedding_dim = embeddings.wv.vectors.shape[1]\n",
    "    \n",
    "    comment_vectors = np.stack([embeddings.wv.word_vec(word) if word in embeddings.wv.vocab \n",
    "                                else np.zeros(embeddings.wv.vectors.shape[1])\n",
    "                       for word in comment.split()])\n",
    "    \n",
    "    features = np.sum(comment_vectors, axis=0)\n",
    "    return features"
   ]
  },
  {
   "cell_type": "code",
   "execution_count": null,
   "metadata": {},
   "outputs": [],
   "source": [
    "X_train_wv = np.stack([vectorize_sum(text) for text in X_train])\n",
    "X_test_wv = np.stack([vectorize_sum(text) for text in X_test])"
   ]
  },
  {
   "cell_type": "code",
   "execution_count": null,
   "metadata": {},
   "outputs": [],
   "source": [
    "wv_model = LogisticRegression().fit(X_train_wv, y_train)"
   ]
  },
  {
   "cell_type": "code",
   "execution_count": null,
   "metadata": {},
   "outputs": [],
   "source": [
    "plot_models(['bow', 'vw'], [logistic_model, wv_model], \n",
    "            [X_train_bow, X_train_wv], [X_test_bow, X_test_wv] * 2, \n",
    "            y_train, y_test)"
   ]
  }
 ],
 "metadata": {
  "kernelspec": {
   "display_name": "Python 3",
   "language": "python",
   "name": "python3"
  },
  "language_info": {
   "codemirror_mode": {
    "name": "ipython",
    "version": 3
   },
   "file_extension": ".py",
   "mimetype": "text/x-python",
   "name": "python",
   "nbconvert_exporter": "python",
   "pygments_lexer": "ipython3",
   "version": "3.6.7"
  }
 },
 "nbformat": 4,
 "nbformat_minor": 2
}
